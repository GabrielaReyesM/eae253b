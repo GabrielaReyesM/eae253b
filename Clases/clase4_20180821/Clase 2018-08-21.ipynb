{
 "cells": [
  {
   "cell_type": "markdown",
   "metadata": {},
   "source": [
    "# 2018-08-21 (Martes)\n",
    "\n",
    "## Ideas proyecto, jueves\n",
    "## Kattis y estructura archivo .py\n",
    "\n",
    "---\n",
    "\n",
    "\n"
   ]
  },
  {
   "cell_type": "markdown",
   "metadata": {},
   "source": [
    "## Estructuras de datos II\n",
    "\n",
    "Ya vimos que en Python existen cuatro tipos de variables básicas: Números (int o float), Strings, Booleans y \"Nada\" (None). \n",
    "\n",
    "Además de estos tipos de datos básicos, Python tiene otras estructuras de datos de uso común:\n",
    "\n",
    "- Listas: Contiene un conjunto de elementos indexados del 0 al N\n",
    "- Tuplas: Similar a las listas, pero no son modificables\n",
    "- Diccionarios: Conjunto de elementos (value) indexados por una llave (key). "
   ]
  },
  {
   "cell_type": "markdown",
   "metadata": {},
   "source": [
    "## Listas\n",
    "\n",
    "Listas es una estructura de datos \"mutable\" y \"ordenada\", que permite guardar objetos dentro de ellas\n",
    "\n",
    "se puede pensar como un vector de objetos (números, texto, bases de datos, otras listas, etc.)\n",
    "\n",
    "Ventajas: cada objeto puede ser distinto\n",
    "\n",
    "Desventajas: ciertas operaciones sobre una lista pueden ser ineficientes, por ejemplo, buscar un elemento puntual dentro de una lista"
   ]
  },
  {
   "cell_type": "code",
   "execution_count": null,
   "metadata": {
    "collapsed": true
   },
   "outputs": [],
   "source": [
    "# listas\n",
    "a = [2, 3, 4, 5]\n",
    "print(a)\n",
    "\n",
    "b = ['texto1', 'texto2', 3, 4]\n",
    "print(b)\n",
    "\n",
    "#operaciones sobre listas\n",
    "\n",
    "#concatenacion\n",
    "c = a + b\n",
    "print(c)\n",
    "\n",
    "#\"slicing\"\n",
    "d = a[1:3]"
   ]
  },
  {
   "cell_type": "markdown",
   "metadata": {},
   "source": [
    "### Listas, control, carga datos\n",
    "\n",
    "Hay dos operaciones que utilizaremos mucho al trabajar con listas:\n",
    "\n",
    "- Append: agrega elementos al final de la lista\n",
    "- Extend: concatena dos listas"
   ]
  },
  {
   "cell_type": "code",
   "execution_count": 40,
   "metadata": {
    "collapsed": false
   },
   "outputs": [
    {
     "name": "stdout",
     "output_type": "stream",
     "text": [
      "[1, 2, 3, 4, 4, 6]\n"
     ]
    }
   ],
   "source": [
    "lista1 = [1, 2, 3, 4]\n",
    "\n",
    "lista1.append(4)\n",
    "lista1.append(6)\n",
    "\n",
    "print(lista1)"
   ]
  },
  {
   "cell_type": "code",
   "execution_count": 42,
   "metadata": {
    "collapsed": false
   },
   "outputs": [
    {
     "name": "stdout",
     "output_type": "stream",
     "text": [
      "['perro', 'gato', 1, 2, 3, 4, 4, 6]\n"
     ]
    }
   ],
   "source": [
    "lista2 = ['perro', 'gato']\n",
    "\n",
    "lista2.extend(lista1)\n",
    "\n",
    "print(lista2)"
   ]
  },
  {
   "cell_type": "markdown",
   "metadata": {},
   "source": [
    "Quiz: Qué pasa si hacemos \"append\" en vez de \"extend\"?\n"
   ]
  },
  {
   "cell_type": "markdown",
   "metadata": {},
   "source": [
    "##### List comprehension\n",
    "\n",
    "Otra herramienta muy utilizada con listas es lo que se llama \"list comprehension\". Esta es una particularidad incluida en Python (generalmente no encontrada en otros lenguajes) que nos permite crear listas derivadas de procesos iterativos.\n",
    "\n",
    "\"list comprehension\" quiere decir que, dentro de una lista, podemos incluir una instrucción a Python para crear la lista.\n",
    "\n",
    "Por ejemplo, supongamos que tenemos una base de datos con los nombres del curso, y queremos crear una lista con los nombres que comienzan con la letra \"A\". ¿cómo lo haríamos? "
   ]
  },
  {
   "cell_type": "code",
   "execution_count": 9,
   "metadata": {
    "collapsed": false
   },
   "outputs": [
    {
     "name": "stdout",
     "output_type": "stream",
     "text": [
      "['1', '19732761-8', 'ABURTO ABURTO', 'MAURICIO HERNÁN', '050004', '\\n']\n",
      "['2', '18935035-K', 'ALDUNATE BARROS', 'MATÍAS', '050004', '\\n']\n",
      "['3', '19828661-3', 'BARRERA ABARCA', 'MAURICIO JAIR', '050004', '\\n']\n",
      "['4', '19672788-4', 'BULNES ZAÑARTU', 'MARIA ANTONIA', '050004', '\\n']\n",
      "['5', '95404-7', 'CORNEJO ARIAS', 'DAVID ROLANDO', '000301', '\\n']\n",
      "['6', '95506-K', 'ESCOBAR MADRID', 'RAMÓN ALBERTO', '000301', '\\n']\n",
      "['7', '19133672-0', 'GARCIA HOFFMANN', 'GONZALO ALONSO', '050004', '\\n']\n",
      "['8', '19741184-8', 'HURTADO CONTRERAS', 'CAMILA CONSTANZA', '050004', '\\n']\n",
      "['9', '95521-3', 'KASKE', 'AURELIEN', '000302', '\\n']\n",
      "['10', '19080962-5', 'MARISCAL BRESLER', 'VICENTE', '050004', '\\n']\n",
      "['11', '19636956-2', 'PASTEN PARDO', 'NICOLAS RODRIGO', '050004', '\\n']\n",
      "['12', '95657-0', 'QUINTERO MARTINEZ', 'MIGUEL ANGEL', '000302', '\\n']\n",
      "['13', '19685544-0', 'RAFOLS VALENZUELA', 'MARTIN', '050004', '\\n']\n",
      "['14', '95707-0', 'REYES MAGAÑA', 'GABRIELA GUADALUPE', '000301', '\\n']\n",
      "['15', '19635591-K', 'RODRIGUEZ ARNOLDS', 'NICOLAS', '050004', '\\n']\n",
      "['16', '19688168-9', 'ROSALES CORREA', 'PAULO ALEJANDRO', '050004', '\\n']\n",
      "['17', '95526-4', 'SEMINARIO LA TORRE', 'GERARDO JOSÉ', '000302', '\\n']\n",
      "['18', '19792621-K', 'VINESES MEDINA', 'ALINE PAZ', '050004', '\\n']\n",
      "['MAURICIO', 'HERNÁN', 'MATÍAS', 'MAURICIO', 'JAIR', 'MARIA', 'ANTONIA', 'DAVID', 'ROLANDO', 'RAMÓN', 'ALBERTO', 'GONZALO', 'ALONSO', 'CAMILA', 'CONSTANZA', 'AURELIEN', 'VICENTE', 'NICOLAS', 'RODRIGO', 'MIGUEL', 'ANGEL', 'MARTIN', 'GABRIELA', 'GUADALUPE', 'NICOLAS', 'PAULO', 'ALEJANDRO', 'GERARDO', 'JOSÉ', 'ALINE', 'PAZ']\n"
     ]
    }
   ],
   "source": [
    "data = open('nombres.txt', 'r')\n",
    "cols = data.readline()\n",
    "\n",
    "nombres = []\n",
    "for line in data:\n",
    "\n",
    "    linea = line.split(\"\\t\")\n",
    "    if len(linea) < 2:\n",
    "        continue\n",
    "    \n",
    "    print(linea)\n",
    "    \n",
    "    nombres.extend(linea[3].split())\n",
    "    \n",
    "data.close()\n",
    "\n",
    "print(nombres)"
   ]
  },
  {
   "cell_type": "code",
   "execution_count": 12,
   "metadata": {
    "collapsed": false
   },
   "outputs": [
    {
     "name": "stdout",
     "output_type": "stream",
     "text": [
      "['MAURICIO', 'HERNÁN', 'MATÍAS', 'MAURICIO', 'JAIR', 'MARIA', 'ANTONIA', 'DAVID', 'ROLANDO', 'RAMÓN', 'ALBERTO', 'GONZALO', 'ALONSO', 'CAMILA', 'CONSTANZA', 'AURELIEN', 'VICENTE', 'NICOLAS', 'RODRIGO', 'MIGUEL', 'ANGEL', 'MARTIN', 'GABRIELA', 'GUADALUPE', 'NICOLAS', 'PAULO', 'ALEJANDRO', 'GERARDO', 'JOSÉ', 'ALINE', 'PAZ']\n",
      "nombres que comienzan con A\n",
      "['Antonia', 'Alberto', 'Alonso', 'Aurelien', 'Angel', 'Alejandro', 'Aline']\n"
     ]
    }
   ],
   "source": [
    "print(nombres)\n",
    "\n",
    "print('nombres que comienzan con A')\n",
    "\n",
    "nombres_con_a = []\n",
    "for nombre in nombres:\n",
    "    if nombre.startswith('A'):\n",
    "        nombres_con_a.append(nombre)\n",
    "\n",
    "print(nombres_con_a)"
   ]
  },
  {
   "cell_type": "code",
   "execution_count": 11,
   "metadata": {
    "collapsed": false
   },
   "outputs": [
    {
     "name": "stdout",
     "output_type": "stream",
     "text": [
      "['ANTONIA', 'ALBERTO', 'ALONSO', 'AURELIEN', 'ANGEL', 'ALEJANDRO', 'ALINE']\n"
     ]
    }
   ],
   "source": [
    "#con list comprehension:\n",
    "\n",
    "nombres_con_a = [nombre for nombre in nombres if nombre.startswith('A')]\n",
    "\n",
    "print(nombres_con_a)"
   ]
  },
  {
   "cell_type": "markdown",
   "metadata": {},
   "source": [
    "y si queremos los nombres \"capitalized\"?"
   ]
  },
  {
   "cell_type": "markdown",
   "metadata": {},
   "source": [
    "### Tuplas\n",
    "\n",
    "Son similares a las listas, pero no permiten modificacion de sus elementos. "
   ]
  },
  {
   "cell_type": "code",
   "execution_count": 13,
   "metadata": {
    "collapsed": false
   },
   "outputs": [
    {
     "name": "stdout",
     "output_type": "stream",
     "text": [
      "([2, 3], [4, 5], 9)\n",
      "([4, 5], 9)\n",
      "([8, 3], [4, 5], 9)\n",
      "9\n"
     ]
    },
    {
     "ename": "TypeError",
     "evalue": "'tuple' object does not support item assignment",
     "output_type": "error",
     "traceback": [
      "\u001b[0;31m---------------------------------------------------------------------------\u001b[0m",
      "\u001b[0;31mTypeError\u001b[0m                                 Traceback (most recent call last)",
      "\u001b[0;32m<ipython-input-13-d6bc80c4137e>\u001b[0m in \u001b[0;36m<module>\u001b[0;34m()\u001b[0m\n\u001b[1;32m     13\u001b[0m \u001b[0mprint\u001b[0m\u001b[1;33m(\u001b[0m\u001b[0mt\u001b[0m\u001b[1;33m[\u001b[0m\u001b[1;36m2\u001b[0m\u001b[1;33m]\u001b[0m\u001b[1;33m)\u001b[0m\u001b[1;33m\u001b[0m\u001b[0m\n\u001b[1;32m     14\u001b[0m \u001b[1;33m\u001b[0m\u001b[0m\n\u001b[0;32m---> 15\u001b[0;31m \u001b[0mt\u001b[0m\u001b[1;33m[\u001b[0m\u001b[1;36m2\u001b[0m\u001b[1;33m]\u001b[0m \u001b[1;33m=\u001b[0m \u001b[1;36m5\u001b[0m\u001b[1;33m\u001b[0m\u001b[0m\n\u001b[0m",
      "\u001b[0;31mTypeError\u001b[0m: 'tuple' object does not support item assignment"
     ]
    }
   ],
   "source": [
    "a = [2, 3]\n",
    "\n",
    "t = (a, [4, 5], 9)\n",
    "\n",
    "print(t)\n",
    "\n",
    "print(t[1:])\n",
    "\n",
    "a[0] = 8\n",
    "\n",
    "print(t)\n",
    "\n",
    "print(t[2])\n",
    "\n",
    "t[2] = 5"
   ]
  },
  {
   "cell_type": "markdown",
   "metadata": {},
   "source": [
    "### Strings\n",
    "\n",
    "Ya vimos strings anteriormente. Solo queria mencionar aqui que la implimentación de strings en Python (y en otros lenguajes) es muy similar a la implementación de listas.\n",
    "\n",
    "Por eso en Python podemos hacer \"slicing\" sobre strings de la misma manera que lo hacemos sobre listas. Pero hay otras operaciones que no están permitidas (como cambiar items). En ese sentido, son más parecidos a tuplas."
   ]
  },
  {
   "cell_type": "code",
   "execution_count": 36,
   "metadata": {
    "collapsed": false
   },
   "outputs": [
    {
     "name": "stdout",
     "output_type": "stream",
     "text": [
      "Hola como estas\n",
      "Hela ceme estas\n"
     ]
    }
   ],
   "source": [
    "s = 'Hola como estas'\n",
    "\n",
    "s[3:9]\n",
    "\n",
    "a = s\n",
    "\n",
    "s = s.replace('o', 'e')\n",
    "\n",
    "print(a)\n",
    "print(s)"
   ]
  },
  {
   "cell_type": "markdown",
   "metadata": {},
   "source": [
    "## Diccionarios\n"
   ]
  },
  {
   "cell_type": "code",
   "execution_count": 23,
   "metadata": {
    "collapsed": false
   },
   "outputs": [
    {
     "name": "stdout",
     "output_type": "stream",
     "text": [
      "{'juan': 8, 'elisa': 8, 'maria': 7, 'diego': 8, 'pedro': 8}\n",
      "8\n",
      "False\n"
     ]
    }
   ],
   "source": [
    "d = {'maria': 7 , 'juan': 8, 'elisa': 8, 'diego': 8, 'pedro': 8}\n",
    "\n",
    "print(d)\n",
    "\n",
    "print(d['juan'])\n",
    "\n",
    "d['juan'] = False\n",
    "\n",
    "print(d['juan'])\n"
   ]
  },
  {
   "cell_type": "markdown",
   "metadata": {},
   "source": [
    "**Cómo funcionan las listas: pointers:**"
   ]
  },
  {
   "cell_type": "code",
   "execution_count": null,
   "metadata": {
    "collapsed": true
   },
   "outputs": [],
   "source": [
    "a = [5,2]\n",
    "\n",
    "l1 = [2, 3, 4, a]\n",
    "\n",
    "l2 = [l1, 5, 6, 7]\n",
    "\n",
    "l3 = l2\n",
    "\n",
    "l1[1] = 8\n",
    "l2[1] = 6\n",
    "\n",
    "l3[3] = 9\n",
    "\n",
    "print(l2)\n",
    "print(l3)\n",
    "\n",
    "a[1] = [3]\n",
    "\n",
    "print(l2)\n",
    "print(l3)\n",
    "\n",
    "l3.append(88)\n",
    "\n",
    "print(l2)\n",
    "print(l3)\n"
   ]
  },
  {
   "cell_type": "markdown",
   "metadata": {},
   "source": [
    "### Detour: hash tables y bases de datos\n"
   ]
  }
 ],
 "metadata": {
  "anaconda-cloud": {},
  "kernelspec": {
   "display_name": "Python [default]",
   "language": "python",
   "name": "python3"
  },
  "language_info": {
   "codemirror_mode": {
    "name": "ipython",
    "version": 3
   },
   "file_extension": ".py",
   "mimetype": "text/x-python",
   "name": "python",
   "nbconvert_exporter": "python",
   "pygments_lexer": "ipython3",
   "version": "3.5.5"
  }
 },
 "nbformat": 4,
 "nbformat_minor": 2
}
